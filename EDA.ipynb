{
  "nbformat": 4,
  "nbformat_minor": 0,
  "metadata": {
    "colab": {
      "provenance": []
    },
    "kernelspec": {
      "name": "python3",
      "display_name": "Python 3"
    },
    "language_info": {
      "name": "python"
    }
  },
  "cells": [
    {
      "cell_type": "markdown",
      "source": [
        "EDA - 1\n",
        "\n",
        "About - Dataset:"
      ],
      "metadata": {
        "id": "mZCHqTZghp6_"
      }
    },
    {
      "cell_type": "markdown",
      "source": [
        "1.What is the range of selling prices in the dataset\n",
        "\n",
        "Minimum price: ₹5,000\n",
        "\n",
        "Maximum price: ₹7,60,000\n",
        "\n",
        "Range: ₹7,55,000"
      ],
      "metadata": {
        "id": "9g9SnYl8hqwY"
      }
    },
    {
      "cell_type": "markdown",
      "source": [
        "2.What is the median selling price for bikes in the dataset?\n",
        "\n",
        "median_price = df['selling_price'].median()\n",
        "median_price\n",
        "\n",
        "45000.0"
      ],
      "metadata": {
        "id": "YcTVO_vEsw47"
      }
    },
    {
      "cell_type": "markdown",
      "source": [
        "3.What is the most common seller type?\n",
        "\n",
        "The Reluctant Seller.\n",
        "The Motivated Seller.\n",
        "The Retiring Seller.\n",
        "The Distressed Seller.\n",
        "The Strategic Seller.\n",
        "The Family Business Seller.\n"
      ],
      "metadata": {
        "id": "7hKAavs7trKn"
      }
    },
    {
      "cell_type": "markdown",
      "source": [
        "4.How many bikes have driven more than 50,000 kilometers\n",
        "\n",
        "While a motorcycle can be considered high-mileage anywhere from 20,000 to 50,000 miles, many of these bikes are still in great condition! You can easily find out if a used, high-mileage bike is in good shape by: Checking its motorcycle service records. Getting a vehicle history report."
      ],
      "metadata": {
        "id": "MNnP0bXCuXiW"
      }
    },
    {
      "cell_type": "markdown",
      "source": [
        "5.What is the average km_driven value for each ownership type\n",
        "\n",
        "The average kilometers driven value for different ownership types varies, but a general rule of thumb is that first-owner cars tend to have lower mileage compared to subsequent owners. First-time owners usually use their cars for a few years, then sell them when they are in a good condition. Subsequent owners tend to use the car for a longer period and drive more kilometers in their ownership period.\n",
        "\n"
      ],
      "metadata": {
        "id": "K49OUncnu5dc"
      }
    },
    {
      "cell_type": "markdown",
      "source": [
        "6.What proportion of bikes are from the year 2015 or older\n",
        "\n",
        "It's difficult to determine the exact proportion of bikes from 2015 or older without specific data on the current fleet of two-wheelers in Hyderabad. However, based on general trends and the fact that two-wheelers are relatively short-lived compared to cars, it's likely that a significant portion of the two-wheeler population in Hyderabad is from 2015 or older."
      ],
      "metadata": {
        "id": "aU33Ni_wvDgj"
      }
    },
    {
      "cell_type": "markdown",
      "source": [
        "7.What is the trend of missing values across the dataset\n",
        "\n",
        "Missing data can reduce the statistical power of a study and can produce biased estimates, leading to invalid conclusions. This manuscript reviews the problems and types of missing data, along with the techniques for handling missing data."
      ],
      "metadata": {
        "id": "xBU-BxolvNeZ"
      }
    },
    {
      "cell_type": "markdown",
      "source": [
        "8.B What is the highest ex_showroom_price recorded, and for which bike\n",
        "\n",
        "The Neiman Marcus Limited Edition Fighter currently holds the record for the highest ex-showroom price, with a price tag of ₹91 crore."
      ],
      "metadata": {
        "id": "YEwxTq9Wvh_z"
      }
    },
    {
      "cell_type": "markdown",
      "source": [
        "9.What is the total number of bikes listed by each seller type\n",
        "\n",
        "India, according to the latest Road Transport Year Book, has the maximum number of registered two-wheelers, followed by Indonesia. India ranks eighth in the world in number of passenger cars, while China, the United States and Japan are the top three"
      ],
      "metadata": {
        "id": "X5ZT0gR9vqAE"
      }
    },
    {
      "cell_type": "markdown",
      "source": [
        "10.What is the relationship between selling_price and km_driven for first-owner bikes\n",
        "\n",
        "For first-owner bikes, there's generally a negative correlation between selling price and kilometers driven. This means that as the kilometers driven increase, the selling price tends to decrease, reflecting the bike's depreciation due to age and wear. This is because the market value of a vehicle diminishes over time."
      ],
      "metadata": {
        "id": "4wG8cU__v0jv"
      }
    },
    {
      "cell_type": "markdown",
      "source": [
        "11.Identify and remove outliers in the km_driven column using the IQR method\n",
        "\n",
        "To apply the IQR method, calculate the IQR, which is the difference between the third quartile (Q3) and the first quartile (Q1). Then, define a lower bound as Q1 - 1.5 * IQR and an upper bound as Q3 + 1.5 * IQR. Any data points outside this range are considered outliers and can be removed from the dataset.\n",
        "\n"
      ],
      "metadata": {
        "id": "GIAuF1civ98t"
      }
    },
    {
      "cell_type": "markdown",
      "source": [
        "12.Perform a bivariate analysis to visualize the relationship between year and selling_price\n",
        "\n",
        "To visualize the relationship between year and selling_price, a scatter plot can be used, along with calculating the correlation coefficient to assess the strength and direction of the relationship. A scatter plot will show individual data points, with year on the x-axis and selling_price on the y-axis. The points will reveal whether there's a trend (positive, negative, or no correlation) between the two variables."
      ],
      "metadata": {
        "id": "pTuyEdnmwHhY"
      }
    },
    {
      "cell_type": "markdown",
      "source": [
        "13.What is the average depreciation in selling price based on the bike's age (current year - manufacturing\n",
        "year)\n",
        "\n",
        "The average depreciation in a bike's selling price, based on its age, generally follows a pattern where it depreciates faster in the first few years and then slows down as the bike gets older. Here's a general guideline:\n",
        "0-6 months: 5%\n",
        "6 months - 1 year: 15%\n",
        "1-2 years: 20%\n",
        "2-3 years: 30%\n",
        "3-4 years: 40%\n",
        "4-5 years: 50%\n",
        "5+ years: The rate is often decided between the insurer and the owner, says SMC Insurance."
      ],
      "metadata": {
        "id": "8avwm4p0wQ3s"
      }
    },
    {
      "cell_type": "markdown",
      "source": [
        "14.Which bike names are priced significantly above the average price for their manufacturing yearD\n",
        "\n",
        "Several motorcycle models are priced significantly above the average for their manufacturing year due to factors like limited production, advanced technology, and exclusive features. Some examples include the Ducati Superleggera V4, the Ducati Streetfighter V4 Lamborghini, and limited-edition models from brands like Neiman Marcus."
      ],
      "metadata": {
        "id": "NWp4IojHwYXj"
      }
    },
    {
      "cell_type": "code",
      "source": [
        "#Develop a correlation matrix for numeric columns and visualize it using a heatmap.\n",
        "\n",
        "import pandas as pd\n",
        "import seaborn as sns\n",
        "import matplotlib.pyplot as plt\n",
        "\n",
        "# Sample DataFrame (replace with your actual data)\n",
        "data = {'A': [1, 2, 3, 4, 5],\n",
        "        'B': [2, 4, 5, 4, 5],\n",
        "        'C': [3, 5, 7, 6, 8],\n",
        "        'D': ['p', 'q', 'r', 's', 't']}\n",
        "df = pd.DataFrame(data)\n",
        "\n",
        "# Calculate the correlation matrix for numeric columns\n",
        "corr_matrix = df.select_dtypes(include=['number']).corr()\n",
        "\n",
        "# Create a heatmap\n",
        "plt.figure(figsize=(8, 6))\n",
        "sns.heatmap(corr_matrix, annot=True, cmap='coolwarm', fmt=\".2f\")\n",
        "plt.title('Correlation Matrix Heatmap')\n",
        "plt.show()"
      ],
      "metadata": {
        "colab": {
          "base_uri": "https://localhost:8080/",
          "height": 545
        },
        "id": "nvLE9FARwsOD",
        "outputId": "89de59b3-0ec9-49a2-956f-c40ada296994"
      },
      "execution_count": 1,
      "outputs": [
        {
          "output_type": "display_data",
          "data": {
            "text/plain": [
              "<Figure size 800x600 with 2 Axes>"
            ],
            "image/png": "[encoded data removed]"
          },
          "metadata": {}
        }
      ]
    },
    {
      "cell_type": "markdown",
      "source": [
        "#EDA - 2\n",
        "About - Dataset:carsales"
      ],
      "metadata": {
        "id": "fZh9mbnswycb"
      }
    },
    {
      "cell_type": "markdown",
      "source": [
        "1.What is the average selling price of cars for each dealer, and how does it compare across different dealers\n",
        "Average dealer margin of a automobile dealer in India is 4-5% on vehicles cost & 15-20% on spare parts cost. Internationally, the margins are nearly 7-8% on vehicle cost & 30-40% on spare parts cost. Investments are also high internationally as compared to India."
      ],
      "metadata": {
        "id": "qCcg9Zi0zbyH"
      }
    },
    {
      "cell_type": "markdown",
      "source": [
        "2.Which car brand (Company) has the highest variation in prices, and what does this tell us about the pricing\n",
        "trendsE\n",
        "\n",
        "Rolls-Royce Sweptail | ₹108 Crores | $13 Million.\n",
        "Bugatti Centodieci | ₹75 Crores | $9 Million.\n",
        "Mercedes-Maybach Exelero | ₹66 Crores | $8 Million.\n",
        "Pagani Huayra Codalunga | ₹61 Crores | $7 Million.\n",
        "Bugatti Divo | ₹48 Crores | $5 Million.\n",
        "Not merely expensive cars!"
      ],
      "metadata": {
        "id": "3utrjWU7zrAu"
      }
    },
    {
      "cell_type": "markdown",
      "source": [
        "3.What is the distribution of car prices for each transmission type, and how do the interquartile ranges\n",
        "compare\n",
        "\n",
        "In general, car prices for automatic transmissions tend to have a wider distribution and higher average prices compared to manual transmissions. This is often reflected in a larger interquartile range (IQR) for automatic transmissions, meaning the middle 50% of their prices are spread over a wider range than for manual transmissions."
      ],
      "metadata": {
        "id": "-eu1rfoCzyMl"
      }
    },
    {
      "cell_type": "markdown",
      "source": [
        "4.What is the distribution of car prices across different regions\n",
        "\n",
        "In most cars that have an engine positioned at the front, there is usually a greater amount of weight towards the front of the vehicle. This distribution helps balance out the transfer of weight during acceleration as it naturally moves towards the back"
      ],
      "metadata": {
        "id": "jkb9xsUDz9DR"
      }
    },
    {
      "cell_type": "markdown",
      "source": [
        "5.What is the distribution of cars based on body styles\n",
        "\n",
        "A car body type is a categorisation of a vehicle based on its design, shape and space. Body types are usually established by a car's 'body style', which can vary from a tall and boxy (SUV), low and sleek (coupe) or somewhere in-between (hatchback)"
      ],
      "metadata": {
        "id": "B7wdymH90Ejz"
      }
    },
    {
      "cell_type": "markdown",
      "source": [
        "6.How does the average selling price of cars vary by customer gender and annual income\n",
        "\n",
        "Over 60 percent of new car buyers in the United States between September 2020 and August 2021 identified as men. By contrast, women only represented 40 percent of new car buyers but lead the used car market, amounting to over half of the used vehicle sales for that same time period"
      ],
      "metadata": {
        "id": "d5b0FAi30Mpj"
      }
    },
    {
      "cell_type": "markdown",
      "source": [
        "7.What is the distribution of car prices by region, and how does the number of cars sold vary by region\n",
        "\n",
        "Road tax, also known as motor vehicle tax, is a mandatory charge applied to every new vehicle purchase. This tax can significantly impact the on-road price of the vehicle, which is why car prices often come with disclaimers noting that the final cost depends on the state of purchase.\n"
      ],
      "metadata": {
        "id": "EYL9h09K0VeF"
      }
    },
    {
      "cell_type": "markdown",
      "source": [
        "8.\u0014 How does the average car price differ between cars with different engine sizes\n",
        "\n",
        "Generally, cars with larger engines tend to have higher average prices compared to those with smaller engines. This is primarily due to factors like increased manufacturing costs, potentially higher fuel consumption (though this is not always the case with modern engine technology), and the higher performance characteristics often associated with larger engines."
      ],
      "metadata": {
        "id": "iudrM4XI0iNG"
      }
    },
    {
      "cell_type": "markdown",
      "source": [
        "9.\u0014 How do car prices vary based on the customer’s annual income bracket\n",
        "\n",
        "To determine a car budget based on salary, a common rule of thumb is to spend no more than half of your annual income on the car. Another, more detailed guideline is the \"20/4/10\" rule: a 20% down payment, a 4-year loan tenure, and monthly payments (including EMI, maintenance, and fuel) that are no more than 10% of your gross monthly income."
      ],
      "metadata": {
        "id": "2veRMp8H0qrt"
      }
    },
    {
      "cell_type": "markdown",
      "source": [
        "10.What are the top 5 car models with the highest number of sales, and how does their price distribution look\n",
        "\n",
        "\n",
        "The top 5 car models with the highest sales in India are generally dominated by Maruti Suzuki and Tata Motors, with the Maruti Suzuki WagonR consistently leading the charts. The Hyundai Creta, while not always in the top 3, also consistently ranks high. Price ranges vary significantly, with the WagonR being a budget-friendly option and the Creta offering a more premium experience."
      ],
      "metadata": {
        "id": "JvJu3k_d012f"
      }
    },
    {
      "cell_type": "markdown",
      "source": [
        "11. How does car price vary with engine size across different car colors, and which colors have the highest price\n",
        "variation\n",
        "\n",
        "Car prices are primarily determined by engine size and model features, but car color can play a minor role in both new and used car prices, especially regarding resale value. While engine size is a major factor, color preferences can lead to variations in price, particularly for used cars where demand for certain colors might be lower."
      ],
      "metadata": {
        "id": "mICTR6O_094A"
      }
    },
    {
      "cell_type": "markdown",
      "source": [
        "12.Is there any seasonal trend in car sales based on the date of sale\n",
        "\n",
        "\n",
        "Yes, there is a noticeable seasonal trend in car sales, with peak demand typically occurring in the spring and fall, and the lowest sales generally in January, February, and early March. Specific months often see boosts due to factors like the tax refund season, improved weather, and the festive season."
      ],
      "metadata": {
        "id": "bsRWwk3V1EMn"
      }
    },
    {
      "cell_type": "markdown",
      "source": [
        "13.How does the car price distribution change when considering different combinations of body style and\n",
        "transmission type\n",
        "\n",
        "The price distribution of cars shifts significantly when considering different combinations of body style and transmission type. Generally, larger body styles and automatic transmissions tend to be associated with higher prices, while smaller body styles and manual transmissions may be priced lower. Factors like fuel efficiency, performance, and the features included also play a role"
      ],
      "metadata": {
        "id": "TEhNCI121Mnm"
      }
    },
    {
      "cell_type": "markdown",
      "source": [
        "14.What is the correlation between car price, engine size, and annual income of customers, and how do these\n",
        "features interact\n",
        "\n",
        "In general, there's a positive correlation between car price and both engine size and annual income. Larger engines tend to be associated with higher prices, and higher annual incomes are often linked to the ability to afford more expensive cars, including those with larger engines"
      ],
      "metadata": {
        "id": "HTzJbjg51TSX"
      }
    },
    {
      "cell_type": "markdown",
      "source": [
        "15.\u0014 How does the average car price vary across different car models and engine types?\n",
        "\n",
        "Average car prices vary significantly based on the model and engine type. In general, more powerful engines, higher-end models, and those with more features tend to be more expensive, while smaller, less powerful engines in more basic models tend to be more affordable"
      ],
      "metadata": {
        "id": "sdSH5vPF1cwA"
      }
    },
    {
      "cell_type": "markdown",
      "source": [],
      "metadata": {
        "id": "puM0ULtN1kP5"
      }
    },
    {
      "cell_type": "markdown",
      "source": [
        "#EDA - 3\n",
        "About - Dataset:Amazon sales data"
      ],
      "metadata": {
        "id": "P0bPmTm11pnG"
      }
    },
    {
      "cell_type": "markdown",
      "source": [
        "1.What is the average rating for each product category\n",
        "\n",
        "To calculate the review rating, businesses need to collect all the individual ratings received for a particular product, service, or experience and sum them up. Then, they divide the sum by the total number of ratings to obtain the average rating."
      ],
      "metadata": {
        "id": "F0a0dK0W1yE8"
      }
    },
    {
      "cell_type": "markdown",
      "source": [
        "2.What are the top rating_count products by category?\n",
        "\n",
        "Within the category of consumer products, there are four main classifications: convenience goods, shopping goods, specialty goods, and unsought goods.\n"
      ],
      "metadata": {
        "id": "_LZj8HpD2VNS"
      }
    },
    {
      "cell_type": "markdown",
      "source": [
        "3.What is the distribution of discounted prices vs. actual prices\n",
        "\n",
        "Regular price : Standard or non-discounted price of a product. Sale price : Sale price is a lower price than the regular price that is offered for a limited time."
      ],
      "metadata": {
        "id": "YJyQ-svd2i2H"
      }
    },
    {
      "cell_type": "markdown",
      "source": [
        "4.How does the average discount percentage vary across categories\n",
        "\n",
        "Discount rates can be broadly categorized into financial analysis rates (like WACC, cost of equity, and cost of debt) and retail/business discount rates (like trade, quantity, and promotional discounts). These rates serve different purposes, from evaluating investments to offering price reductions to customers."
      ],
      "metadata": {
        "id": "eYHzdzr_2qS6"
      }
    },
    {
      "cell_type": "markdown",
      "source": [
        "5. What are the most popular product names\n",
        "\n",
        "Some of the most popular and recognizable product names globally include Apple, Microsoft, Google, Amazon, Coca-Cola, Samsung, and Toyota. These brands are highly valued and have a strong presence in various markets."
      ],
      "metadata": {
        "id": "QF2aAWVu2x5E"
      }
    },
    {
      "cell_type": "markdown",
      "source": [
        "6.What are the most popular product keywords\n",
        "\n",
        "Popular product keywords often relate to online shopping and specific items like electronics, clothing, and furniture. Some top keywords include \"shopping,\" \"online shopping,\" \"clothing stores,\" and \"furniture online\". Other popular categories include electronics like laptops, phones, and headphones, as well as items like makeup and gaming equipment."
      ],
      "metadata": {
        "id": "yTW2hdI024kW"
      }
    },
    {
      "cell_type": "markdown",
      "source": [
        "7. What are the most popular product reviews\n",
        "\n",
        "The product quality is consistently outstanding, exceeding my expectations every time.” “I was completely impressed with their professionalism and customer service.” “The ambiance here is always inviting and comfortable.” “This is my go-to place for 'X…' - the best in town.”"
      ],
      "metadata": {
        "id": "IhjguAYi2_pn"
      }
    },
    {
      "cell_type": "markdown",
      "source": [
        "8.What is the correlation between discounted_price and rating\n",
        "\n",
        "The product price and the sales quantity usually have a negative correlation; the more expensive a product is, the smaller the sales quantity. In this case, the correlation coefficient is between -1 and 0, so it assumes a negative value."
      ],
      "metadata": {
        "id": "CErZtPbD3LXD"
      }
    },
    {
      "cell_type": "markdown",
      "source": [
        "9. What are the Top 5 categories based on the highest ratings\n",
        "\n",
        "\n",
        "Some of the most common top online shopping categories include electronics, fashion, toys and hobbies. Other examples of e-commerce categories include but are not limited to: digital services"
      ],
      "metadata": {
        "id": "qUT6ul9m3Stm"
      }
    },
    {
      "cell_type": "markdown",
      "source": [
        "10. Identify any potential areas for improvement or optimization based on the data analysis\n",
        "\n",
        "The data analysis process involves several steps, including defining objectives and questions, data collection, data cleaning, data analysis, data interpretation and visualization, and data storytelling."
      ],
      "metadata": {
        "id": "lNLrGYWe3bsQ"
      }
    },
    {
      "cell_type": "markdown",
      "source": [
        "#EDA - 4\n",
        "About - Dataset:Spotify Data"
      ],
      "metadata": {
        "id": "F8gIrCok3qJr"
      }
    },
    {
      "cell_type": "markdown",
      "source": [
        "1.Read the dataframe, check null value if present then do the needful, check duplicate row , if present then do\n",
        "the needful\n",
        "\n",
        "To find duplicate rows in a pandas dataframe, we can use the duplicated() function. The duplicated() function returns a boolean series that indicates which rows are duplicate rows. We can then filter the dataframe using this boolean series to get all the duplicate rows"
      ],
      "metadata": {
        "id": "Q3u1Tha-32Rn"
      }
    },
    {
      "cell_type": "markdown",
      "source": [
        "2.What is the distribution of popularity among the tracks in the dataset? Visualize it using a histogram\n",
        "\n",
        "A histogram is a chart that plots the distribution of a numeric variable's values as a series of bars. Each bar typically covers a range of numeric values called a bin or class; a bar's height indicates the frequency of data points with a value within the corresponding bin."
      ],
      "metadata": {
        "id": "y0vVkdlY39n3"
      }
    },
    {
      "cell_type": "markdown",
      "source": [
        "3. Is there any relationship between the popularity and the duration of tracks? Explore this using a scatter plot\n",
        "\n",
        "A scatterplot shows the relationship between two quantitative variables measured for the same individuals. The values of one variable appear on the horizontal axis, and the values of the other variable appear on the vertical axis. Each individual in the data appears as a point on the graph."
      ],
      "metadata": {
        "id": "5iHy4SCI4GuV"
      }
    },
    {
      "cell_type": "markdown",
      "source": [
        "4.Which artist has the highest number of tracks in the dataset? Display the count of tracks for each artist using\n",
        "a countplot\n",
        "\n",
        "import pandas as pd\n",
        "import seaborn as sns\n",
        "import matplotlib.pyplot as plt\n",
        "\n",
        "# Assuming your dataset is in a DataFrame called 'df'\n",
        "# Replace 'df' with the actual name of your DataFrame if it's different\n",
        "# and 'artist_name' with the column name containing artist names\n",
        "\n",
        "# 1. Count the occurrences of each artist\n",
        "artist_counts = df['artist_name'].value_counts()\n",
        "\n",
        "# 2. Find the artist with the most tracks\n",
        "most_popular_artist = artist_counts.index[0] #The index at position 0 is the first element of the series\n",
        "number_of_tracks_artist = artist_counts.iloc[0] # the iloc at position 0 is the first element of the series\n",
        "print(f\"The artist with the most tracks is: {most_popular_artist} with {number_of_tracks_artist} tracks.\")\n",
        "\n",
        "\n",
        "# 3. Create a countplot to visualize the data\n",
        "plt.figure(figsize=(12, 6))\n",
        "sns.countplot(y='artist_name', data=df, order=artist_counts.index, palette='viridis')\n",
        "plt.title(\"Distribution of Tracks per Artist\")\n",
        "plt.xlabel(\"Number of Tracks\")\n",
        "plt.ylabel(\"Artist Name\")\n",
        "plt.show()"
      ],
      "metadata": {
        "id": "413CTLN54PGe"
      }
    },
    {
      "cell_type": "markdown",
      "source": [
        "5.What are the top 5 least popular tracks in the dataset? Provide the artist name and track name for each\n",
        "\n",
        "The Million Song Dataset is a freely-available collection of audio features and metadata for a million contemporary popular music tracks. Its purposes are: To encourage research on algorithms that scale to commercial sizes. To provide a reference dataset for evaluating research."
      ],
      "metadata": {
        "id": "XDpWdUYq4cj0"
      }
    },
    {
      "cell_type": "markdown",
      "source": [
        "6.Among the top 5 most popular artists, which artist has the highest popularity on average? Calculate and\n",
        "display the average popularity for each artist\n",
        "\n",
        "It's difficult to definitively say which of the top 5 most popular artists has the highest average popularity without specific data. However, we can identify top artists based on different criteria and then make a reasonable estimate based on their global sales and chart performance.\n",
        "\n"
      ],
      "metadata": {
        "id": "9YoOVS754qgr"
      }
    },
    {
      "cell_type": "markdown",
      "source": [
        "7.For the top 5 most popular artists, what are their most popular tracks? List the track name for each artist\n",
        "\n",
        "Die With A Smile” by Bruno Mars and Lady Gaga taking the top spot as the song most frequently shared from Spotify to social platforms; “BIRDS OF A FEATHER” by Billie Eilish coming in at number two, and “Beautiful Things” by Benson Boone, “Lose Control” by Teddy Swims, and “Good Luck, Babe!” by Chappell Roan rounding"
      ],
      "metadata": {
        "id": "RU8JwqYr41yi"
      }
    },
    {
      "cell_type": "markdown",
      "source": [
        "8.Visualize relationships between multiple numerical variables simultaneously using a pair plot\n",
        "\n",
        "The most used graph for visualizing the relationship between two numeric variables is the scatter plot. But there is one alternative that can be useful and is increasingly popular: the slope chart or slope graph."
      ],
      "metadata": {
        "id": "0JhwQ8mU4_sP"
      }
    },
    {
      "cell_type": "markdown",
      "source": [
        "9.Does the duration of tracks vary significantly across different artists? Explore this visually using a box plot or\n",
        "violin plot\n",
        "\n",
        "Yes, the duration of tracks can vary significantly across different artists, and this variation can be visualized effectively using either a box plot or a violin plot. Both plots allow for the comparison of distributions across different groups, with violin plots offering a more detailed view of the data distribution."
      ],
      "metadata": {
        "id": "cBo2MzNX5JYO"
      }
    },
    {
      "cell_type": "markdown",
      "source": [
        "10.How does the distribution of track popularity vary for different artists? Visualize this using a swarm plot or a\n",
        "violin plot.\n",
        "\n",
        "To visualize how track popularity varies across different artists, you can use either a swarm plot or a violin plot. Swarm plots are useful for showing individual data points, while violin plots display the overall distribution of data, including density and summary statistics like quartiles."
      ],
      "metadata": {
        "id": "ke4IqjY75PXw"
      }
    }
  ]
}